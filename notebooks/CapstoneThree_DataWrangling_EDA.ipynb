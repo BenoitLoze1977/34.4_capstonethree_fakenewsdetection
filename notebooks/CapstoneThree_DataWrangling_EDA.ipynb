{
 "cells": [
  {
   "cell_type": "markdown",
   "id": "6e845e69-4c45-405c-a0f6-c69961f96386",
   "metadata": {},
   "source": [
    "# A. Table of content:"
   ]
  },
  {
   "cell_type": "markdown",
   "id": "320af62e-f56b-4d40-81ac-44c8546efc4b",
   "metadata": {},
   "source": [
    "- [B. Instructions:](#B.-Instructions:)  \n",
    "- [C. Import & Data Load:](#C.-Import-&-Data-Load:)  \n",
    "- [1. Data wrangling:](#1.-Data-wrangling:)  \n",
    "    - [1.1. Data cleaning:](#1.1.-Data-cleaning:)  \n",
    "    - [1.2. Text normalization:](#1.2.-Text-normalization:)  \n",
    "- [2. Exploratory data analysis, EDA:](#2.-Exploratory-data-analysis,-EDA:)  \n",
    "- [3. Data save:](#3.-Data-save:)  "
   ]
  },
  {
   "cell_type": "markdown",
   "id": "43309043-384e-47df-ba4c-40943612024a",
   "metadata": {},
   "source": [
    "# B. Instructions:"
   ]
  },
  {
   "cell_type": "code",
   "execution_count": 4,
   "id": "b81ef23d-d4db-46ea-90dd-d2ba31f744a0",
   "metadata": {},
   "outputs": [],
   "source": [
    "from IPython.display import IFrame"
   ]
  },
  {
   "cell_type": "code",
   "execution_count": 5,
   "id": "12bd750c-1c91-4da5-aad1-25ae115eca46",
   "metadata": {},
   "outputs": [],
   "source": [
    "instructions_path = r\"..\\references\\2_3_DataWrangling_EDA_Instructions\\1585013354_Capstone_Three_Steps_2_3___Data_Wrangling_and_EDA_-_Google_Docs.pdf\""
   ]
  },
  {
   "cell_type": "code",
   "execution_count": 6,
   "id": "9dc58bbd-53cc-4268-84e2-4a56fb9557c9",
   "metadata": {},
   "outputs": [
    {
     "data": {
      "text/html": [
       "\n",
       "        <iframe\n",
       "            width=\"800\"\n",
       "            height=\"600\"\n",
       "            src=\"..\\references\\2_3_DataWrangling_EDA_Instructions\\1585013354_Capstone_Three_Steps_2_3___Data_Wrangling_and_EDA_-_Google_Docs.pdf\"\n",
       "            frameborder=\"0\"\n",
       "            allowfullscreen\n",
       "            \n",
       "        ></iframe>\n",
       "        "
      ],
      "text/plain": [
       "<IPython.lib.display.IFrame at 0x24c6b964c10>"
      ]
     },
     "execution_count": 6,
     "metadata": {},
     "output_type": "execute_result"
    }
   ],
   "source": [
    "IFrame(instructions_path, width=800, height=600)"
   ]
  },
  {
   "cell_type": "markdown",
   "id": "0749bae3-6a57-4aac-aaa0-461dc67b1608",
   "metadata": {},
   "source": [
    "# C. Import & Data Load:"
   ]
  },
  {
   "cell_type": "code",
   "execution_count": 8,
   "id": "9dbd74fe-0794-495e-8ce1-6c5e61ef2d2a",
   "metadata": {},
   "outputs": [],
   "source": [
    "import pandas as pd\n",
    "import spacy\n"
   ]
  },
  {
   "cell_type": "code",
   "execution_count": 9,
   "id": "352083a3-3b5f-4e95-8da4-c392970f6b9c",
   "metadata": {},
   "outputs": [],
   "source": [
    "dataset_path = r\"..\\data\\raw\\fake_news_dataset.csv\""
   ]
  },
  {
   "cell_type": "code",
   "execution_count": 10,
   "id": "ed947372-d506-4c27-bbd9-2dcea5045b14",
   "metadata": {},
   "outputs": [],
   "source": [
    "df = pd.read_csv(dataset_path)"
   ]
  },
  {
   "cell_type": "markdown",
   "id": "30106548-ab88-4d32-bd97-1fca6659dfe5",
   "metadata": {},
   "source": [
    "# 1. Data wrangling:"
   ]
  },
  {
   "cell_type": "markdown",
   "id": "36dd2d13-e052-4581-8655-11de5b78ec0f",
   "metadata": {},
   "source": [
    "## 1.1. Data cleaning:"
   ]
  },
  {
   "cell_type": "markdown",
   "id": "47812a3a-6276-42cc-8e4f-417a9573f678",
   "metadata": {},
   "source": [
    "### 1.1.1. Data inspection:"
   ]
  },
  {
   "cell_type": "code",
   "execution_count": 46,
   "id": "a387a67b-7fc9-41d0-9968-9a2bb433363a",
   "metadata": {},
   "outputs": [
    {
     "data": {
      "text/html": [
       "<div>\n",
       "<style scoped>\n",
       "    .dataframe tbody tr th:only-of-type {\n",
       "        vertical-align: middle;\n",
       "    }\n",
       "\n",
       "    .dataframe tbody tr th {\n",
       "        vertical-align: top;\n",
       "    }\n",
       "\n",
       "    .dataframe thead th {\n",
       "        text-align: right;\n",
       "    }\n",
       "</style>\n",
       "<table border=\"1\" class=\"dataframe\">\n",
       "  <thead>\n",
       "    <tr style=\"text-align: right;\">\n",
       "      <th></th>\n",
       "      <th>title</th>\n",
       "      <th>text</th>\n",
       "      <th>date</th>\n",
       "      <th>source</th>\n",
       "      <th>author</th>\n",
       "      <th>category</th>\n",
       "      <th>label</th>\n",
       "    </tr>\n",
       "  </thead>\n",
       "  <tbody>\n",
       "    <tr>\n",
       "      <th>0</th>\n",
       "      <td>Foreign Democrat final.</td>\n",
       "      <td>more tax development both store agreement lawy...</td>\n",
       "      <td>2023-03-10</td>\n",
       "      <td>NY Times</td>\n",
       "      <td>Paula George</td>\n",
       "      <td>Politics</td>\n",
       "      <td>real</td>\n",
       "    </tr>\n",
       "    <tr>\n",
       "      <th>1</th>\n",
       "      <td>To offer down resource great point.</td>\n",
       "      <td>probably guess western behind likely next inve...</td>\n",
       "      <td>2022-05-25</td>\n",
       "      <td>Fox News</td>\n",
       "      <td>Joseph Hill</td>\n",
       "      <td>Politics</td>\n",
       "      <td>fake</td>\n",
       "    </tr>\n",
       "    <tr>\n",
       "      <th>2</th>\n",
       "      <td>Himself church myself carry.</td>\n",
       "      <td>them identify forward present success risk sev...</td>\n",
       "      <td>2022-09-01</td>\n",
       "      <td>CNN</td>\n",
       "      <td>Julia Robinson</td>\n",
       "      <td>Business</td>\n",
       "      <td>fake</td>\n",
       "    </tr>\n",
       "    <tr>\n",
       "      <th>3</th>\n",
       "      <td>You unit its should.</td>\n",
       "      <td>phone which item yard Republican safe where po...</td>\n",
       "      <td>2023-02-07</td>\n",
       "      <td>Reuters</td>\n",
       "      <td>Mr. David Foster DDS</td>\n",
       "      <td>Science</td>\n",
       "      <td>fake</td>\n",
       "    </tr>\n",
       "    <tr>\n",
       "      <th>4</th>\n",
       "      <td>Billion believe employee summer how.</td>\n",
       "      <td>wonder myself fact difficult course forget exa...</td>\n",
       "      <td>2023-04-03</td>\n",
       "      <td>CNN</td>\n",
       "      <td>Austin Walker</td>\n",
       "      <td>Technology</td>\n",
       "      <td>fake</td>\n",
       "    </tr>\n",
       "  </tbody>\n",
       "</table>\n",
       "</div>"
      ],
      "text/plain": [
       "                                  title  \\\n",
       "0               Foreign Democrat final.   \n",
       "1   To offer down resource great point.   \n",
       "2          Himself church myself carry.   \n",
       "3                  You unit its should.   \n",
       "4  Billion believe employee summer how.   \n",
       "\n",
       "                                                text        date    source  \\\n",
       "0  more tax development both store agreement lawy...  2023-03-10  NY Times   \n",
       "1  probably guess western behind likely next inve...  2022-05-25  Fox News   \n",
       "2  them identify forward present success risk sev...  2022-09-01       CNN   \n",
       "3  phone which item yard Republican safe where po...  2023-02-07   Reuters   \n",
       "4  wonder myself fact difficult course forget exa...  2023-04-03       CNN   \n",
       "\n",
       "                 author    category label  \n",
       "0          Paula George    Politics  real  \n",
       "1           Joseph Hill    Politics  fake  \n",
       "2        Julia Robinson    Business  fake  \n",
       "3  Mr. David Foster DDS     Science  fake  \n",
       "4         Austin Walker  Technology  fake  "
      ]
     },
     "execution_count": 46,
     "metadata": {},
     "output_type": "execute_result"
    }
   ],
   "source": [
    "df.head()"
   ]
  },
  {
   "cell_type": "code",
   "execution_count": 67,
   "id": "0cf3fead-78bd-4061-b0b1-32e9051aaecb",
   "metadata": {},
   "outputs": [
    {
     "data": {
      "text/plain": [
       "(20000, 7)"
      ]
     },
     "execution_count": 67,
     "metadata": {},
     "output_type": "execute_result"
    }
   ],
   "source": [
    "df.shape"
   ]
  },
  {
   "cell_type": "code",
   "execution_count": 44,
   "id": "cab6a2ed-b9f6-4fbb-8598-8de9d28c6bba",
   "metadata": {},
   "outputs": [
    {
     "name": "stdout",
     "output_type": "stream",
     "text": [
      "<class 'pandas.core.frame.DataFrame'>\n",
      "RangeIndex: 20000 entries, 0 to 19999\n",
      "Data columns (total 7 columns):\n",
      " #   Column    Non-Null Count  Dtype \n",
      "---  ------    --------------  ----- \n",
      " 0   title     20000 non-null  object\n",
      " 1   text      20000 non-null  object\n",
      " 2   date      20000 non-null  object\n",
      " 3   source    19000 non-null  object\n",
      " 4   author    19000 non-null  object\n",
      " 5   category  20000 non-null  object\n",
      " 6   label     20000 non-null  object\n",
      "dtypes: object(7)\n",
      "memory usage: 1.1+ MB\n"
     ]
    }
   ],
   "source": [
    "df.info()"
   ]
  },
  {
   "cell_type": "code",
   "execution_count": 54,
   "id": "faad1260-ab2e-40cb-bde0-4fbcf8d9871e",
   "metadata": {},
   "outputs": [
    {
     "name": "stdout",
     "output_type": "stream",
     "text": [
      "\n",
      "Unique values in source:\n",
      "['NY Times' 'Fox News' 'CNN' 'Reuters' 'Daily News' 'Global Times'\n",
      " 'The Guardian' 'BBC' nan]\n",
      "\n",
      "Unique values in author:\n",
      "['Paula George' 'Joseph Hill' 'Julia Robinson' ... 'Maria Mcbride'\n",
      " 'Kristen Franklin' 'David Wise']\n",
      "\n",
      "Unique values in category:\n",
      "['Politics' 'Business' 'Science' 'Technology' 'Health' 'Sports'\n",
      " 'Entertainment']\n"
     ]
    }
   ],
   "source": [
    "# Unique values:\n",
    "for col in [\"source\", \"author\", \"category\"]:\n",
    "    print(f\"\\nUnique values in {col}:\")\n",
    "    print(df[col].unique())"
   ]
  },
  {
   "cell_type": "code",
   "execution_count": 58,
   "id": "b9aac54a-404b-443c-9fb1-8539501caceb",
   "metadata": {},
   "outputs": [
    {
     "data": {
      "text/plain": [
       "source          8\n",
       "author      17051\n",
       "category        7\n",
       "dtype: int64"
      ]
     },
     "execution_count": 58,
     "metadata": {},
     "output_type": "execute_result"
    }
   ],
   "source": [
    "# Count how many unique values:\n",
    "df[[\"source\", \"author\", \"category\"]].nunique()"
   ]
  },
  {
   "cell_type": "markdown",
   "id": "695cbba2-5620-4157-9172-fa1ed8cc4430",
   "metadata": {},
   "source": [
    "### 1.1.2. Data types:"
   ]
  },
  {
   "cell_type": "code",
   "execution_count": 48,
   "id": "3d303912-fb1d-4fe7-b555-5fef252b80c7",
   "metadata": {},
   "outputs": [],
   "source": [
    "df[\"date\"] = pd.to_datetime(df[\"date\"])"
   ]
  },
  {
   "cell_type": "code",
   "execution_count": 50,
   "id": "13395d03-1ff2-4e3f-8f57-9a79f90343e6",
   "metadata": {},
   "outputs": [
    {
     "name": "stdout",
     "output_type": "stream",
     "text": [
      "<class 'pandas.core.frame.DataFrame'>\n",
      "RangeIndex: 20000 entries, 0 to 19999\n",
      "Data columns (total 7 columns):\n",
      " #   Column    Non-Null Count  Dtype         \n",
      "---  ------    --------------  -----         \n",
      " 0   title     20000 non-null  object        \n",
      " 1   text      20000 non-null  object        \n",
      " 2   date      20000 non-null  datetime64[ns]\n",
      " 3   source    19000 non-null  object        \n",
      " 4   author    19000 non-null  object        \n",
      " 5   category  20000 non-null  object        \n",
      " 6   label     20000 non-null  object        \n",
      "dtypes: datetime64[ns](1), object(6)\n",
      "memory usage: 1.1+ MB\n"
     ]
    }
   ],
   "source": [
    "df.info()"
   ]
  },
  {
   "cell_type": "markdown",
   "id": "02a669f7-9141-4f1e-b31d-8ce462478aef",
   "metadata": {},
   "source": [
    "### 1.1.3. Missing values:"
   ]
  },
  {
   "cell_type": "markdown",
   "id": "6878f05f-859f-4340-aecc-f6ff31f1ed8d",
   "metadata": {},
   "source": [
    "There are **5% of missing values** in two features, which are \"source\" and \"author\".  \n",
    "For the **\"source\"** feature, the imputation by the mode is making sense as there are only 8 unique values for 20,000 rows.  \n",
    "However, concerning the **\"author\"** feature, as there are 17,051 unique values, imputation by the mode is not making sense. We can either drop the missing values rows as they represent 5% of the rows or we can create a new category as \"Unknown\" while preserving the data.   "
   ]
  },
  {
   "cell_type": "code",
   "execution_count": 83,
   "id": "6a0c36e7-d352-4f47-bb84-fcf5cf26e7d1",
   "metadata": {},
   "outputs": [
    {
     "name": "stdout",
     "output_type": "stream",
     "text": [
      "The 'author' and the 'source' features present 5.0% and 5.0% of missing values respectively.\n"
     ]
    }
   ],
   "source": [
    "source_missing_percentage = (df[\"source\"].isnull().sum() / df.shape[0]) * 100\n",
    "author_missing_percentage = (df[\"author\"].isnull().sum() / df.shape[0]) * 100\n",
    "\n",
    "print(f\"The 'author' and the 'source' features present {source_missing_percentage}% and {author_missing_percentage}% of missing values respectively.\")"
   ]
  },
  {
   "cell_type": "code",
   "execution_count": 90,
   "id": "049a2cb4-3ea4-4ed0-9ec7-5e270fba40de",
   "metadata": {},
   "outputs": [],
   "source": [
    "source_mode = df[\"source\"].mode()[0]\n",
    "df[\"source\"] = df[\"source\"].fillna(source_mode)\n",
    "df[\"author\"] = df[\"author\"].fillna(\"Unknown\")"
   ]
  },
  {
   "cell_type": "code",
   "execution_count": 92,
   "id": "03349381-2d21-4e73-85cf-10c9df447463",
   "metadata": {},
   "outputs": [
    {
     "name": "stdout",
     "output_type": "stream",
     "text": [
      "<class 'pandas.core.frame.DataFrame'>\n",
      "RangeIndex: 20000 entries, 0 to 19999\n",
      "Data columns (total 7 columns):\n",
      " #   Column    Non-Null Count  Dtype         \n",
      "---  ------    --------------  -----         \n",
      " 0   title     20000 non-null  object        \n",
      " 1   text      20000 non-null  object        \n",
      " 2   date      20000 non-null  datetime64[ns]\n",
      " 3   source    20000 non-null  object        \n",
      " 4   author    20000 non-null  object        \n",
      " 5   category  20000 non-null  object        \n",
      " 6   label     20000 non-null  object        \n",
      "dtypes: datetime64[ns](1), object(6)\n",
      "memory usage: 1.1+ MB\n"
     ]
    }
   ],
   "source": [
    "df.info()"
   ]
  },
  {
   "cell_type": "markdown",
   "id": "be10ed66-6d07-45dd-938c-7e27e14662e7",
   "metadata": {},
   "source": [
    "### 1.1.4. Duplicates:"
   ]
  },
  {
   "cell_type": "code",
   "execution_count": 98,
   "id": "57537e07-011d-481d-8b31-b2508b1e8788",
   "metadata": {},
   "outputs": [
    {
     "name": "stdout",
     "output_type": "stream",
     "text": [
      "Duplicated tiles: 0.\n",
      "Duplicated artices: 0.\n",
      "Duplicate title & article pair: 0\n"
     ]
    }
   ],
   "source": [
    "title_dup = df[\"title\"].duplicated().sum()\n",
    "print(f\"Duplicated tiles: {title_dup}.\")\n",
    "\n",
    "article_dup = df[\"text\"].duplicated().sum()\n",
    "print(f\"Duplicated artices: {article_dup}.\")\n",
    "\n",
    "title_article_dup = df.duplicated(subset=[\"title\", \"text\"]).sum()\n",
    "print(f\"Duplicate title & article pair: {title_article_dup}\")"
   ]
  },
  {
   "cell_type": "markdown",
   "id": "af445a7a-ce41-4c9a-bc30-8eb5b61be2c9",
   "metadata": {},
   "source": [
    "### 1.1.5. Target label check:"
   ]
  },
  {
   "cell_type": "code",
   "execution_count": 101,
   "id": "33189b37-2e62-4378-bd89-5d25ad5d5eea",
   "metadata": {},
   "outputs": [
    {
     "data": {
      "text/plain": [
       "array(['real', 'fake'], dtype=object)"
      ]
     },
     "execution_count": 101,
     "metadata": {},
     "output_type": "execute_result"
    }
   ],
   "source": [
    "df[\"label\"].unique()"
   ]
  },
  {
   "cell_type": "markdown",
   "id": "afd72a5d-37f5-4d24-9644-243bbfc189c6",
   "metadata": {},
   "source": [
    "## 1.2. Text normalization:"
   ]
  },
  {
   "cell_type": "markdown",
   "id": "b6fc4a99-f3c7-46bf-97a7-2ec1cdb29470",
   "metadata": {},
   "source": [
    "### 1.2.1. Tokenization:"
   ]
  },
  {
   "cell_type": "code",
   "execution_count": 107,
   "id": "e2321154-9245-4e76-afdf-28d28a162208",
   "metadata": {},
   "outputs": [
    {
     "data": {
      "text/plain": [
       "<spacy.lang.en.English at 0x24c580739d0>"
      ]
     },
     "execution_count": 107,
     "metadata": {},
     "output_type": "execute_result"
    }
   ],
   "source": [
    "nlp = spacy.load(\"en_core_web_lg\")\n",
    "nlp"
   ]
  },
  {
   "cell_type": "code",
   "execution_count": 117,
   "id": "2e1a499e-2c7d-48ac-b05a-f25dbb887a5e",
   "metadata": {},
   "outputs": [],
   "source": [
    "df[\"title_doc\"] = list(nlp.pipe(df[\"title\"], batch_size=100, n_process=4))"
   ]
  },
  {
   "cell_type": "code",
   "execution_count": 119,
   "id": "6f0764fd-4e37-4ea0-9a0e-caea89f9a863",
   "metadata": {},
   "outputs": [
    {
     "data": {
      "text/html": [
       "<div>\n",
       "<style scoped>\n",
       "    .dataframe tbody tr th:only-of-type {\n",
       "        vertical-align: middle;\n",
       "    }\n",
       "\n",
       "    .dataframe tbody tr th {\n",
       "        vertical-align: top;\n",
       "    }\n",
       "\n",
       "    .dataframe thead th {\n",
       "        text-align: right;\n",
       "    }\n",
       "</style>\n",
       "<table border=\"1\" class=\"dataframe\">\n",
       "  <thead>\n",
       "    <tr style=\"text-align: right;\">\n",
       "      <th></th>\n",
       "      <th>title</th>\n",
       "      <th>text</th>\n",
       "      <th>date</th>\n",
       "      <th>source</th>\n",
       "      <th>author</th>\n",
       "      <th>category</th>\n",
       "      <th>label</th>\n",
       "      <th>title_doc</th>\n",
       "    </tr>\n",
       "  </thead>\n",
       "  <tbody>\n",
       "    <tr>\n",
       "      <th>0</th>\n",
       "      <td>Foreign Democrat final.</td>\n",
       "      <td>more tax development both store agreement lawy...</td>\n",
       "      <td>2023-03-10</td>\n",
       "      <td>NY Times</td>\n",
       "      <td>Paula George</td>\n",
       "      <td>Politics</td>\n",
       "      <td>real</td>\n",
       "      <td>(Foreign, Democrat, final, .)</td>\n",
       "    </tr>\n",
       "    <tr>\n",
       "      <th>1</th>\n",
       "      <td>To offer down resource great point.</td>\n",
       "      <td>probably guess western behind likely next inve...</td>\n",
       "      <td>2022-05-25</td>\n",
       "      <td>Fox News</td>\n",
       "      <td>Joseph Hill</td>\n",
       "      <td>Politics</td>\n",
       "      <td>fake</td>\n",
       "      <td>(To, offer, down, resource, great, point, .)</td>\n",
       "    </tr>\n",
       "    <tr>\n",
       "      <th>2</th>\n",
       "      <td>Himself church myself carry.</td>\n",
       "      <td>them identify forward present success risk sev...</td>\n",
       "      <td>2022-09-01</td>\n",
       "      <td>CNN</td>\n",
       "      <td>Julia Robinson</td>\n",
       "      <td>Business</td>\n",
       "      <td>fake</td>\n",
       "      <td>(Himself, church, myself, carry, .)</td>\n",
       "    </tr>\n",
       "    <tr>\n",
       "      <th>3</th>\n",
       "      <td>You unit its should.</td>\n",
       "      <td>phone which item yard Republican safe where po...</td>\n",
       "      <td>2023-02-07</td>\n",
       "      <td>Reuters</td>\n",
       "      <td>Mr. David Foster DDS</td>\n",
       "      <td>Science</td>\n",
       "      <td>fake</td>\n",
       "      <td>(You, unit, its, should, .)</td>\n",
       "    </tr>\n",
       "    <tr>\n",
       "      <th>4</th>\n",
       "      <td>Billion believe employee summer how.</td>\n",
       "      <td>wonder myself fact difficult course forget exa...</td>\n",
       "      <td>2023-04-03</td>\n",
       "      <td>CNN</td>\n",
       "      <td>Austin Walker</td>\n",
       "      <td>Technology</td>\n",
       "      <td>fake</td>\n",
       "      <td>(Billion, believe, employee, summer, how, .)</td>\n",
       "    </tr>\n",
       "  </tbody>\n",
       "</table>\n",
       "</div>"
      ],
      "text/plain": [
       "                                  title  \\\n",
       "0               Foreign Democrat final.   \n",
       "1   To offer down resource great point.   \n",
       "2          Himself church myself carry.   \n",
       "3                  You unit its should.   \n",
       "4  Billion believe employee summer how.   \n",
       "\n",
       "                                                text       date    source  \\\n",
       "0  more tax development both store agreement lawy... 2023-03-10  NY Times   \n",
       "1  probably guess western behind likely next inve... 2022-05-25  Fox News   \n",
       "2  them identify forward present success risk sev... 2022-09-01       CNN   \n",
       "3  phone which item yard Republican safe where po... 2023-02-07   Reuters   \n",
       "4  wonder myself fact difficult course forget exa... 2023-04-03       CNN   \n",
       "\n",
       "                 author    category label  \\\n",
       "0          Paula George    Politics  real   \n",
       "1           Joseph Hill    Politics  fake   \n",
       "2        Julia Robinson    Business  fake   \n",
       "3  Mr. David Foster DDS     Science  fake   \n",
       "4         Austin Walker  Technology  fake   \n",
       "\n",
       "                                      title_doc  \n",
       "0                 (Foreign, Democrat, final, .)  \n",
       "1  (To, offer, down, resource, great, point, .)  \n",
       "2           (Himself, church, myself, carry, .)  \n",
       "3                   (You, unit, its, should, .)  \n",
       "4  (Billion, believe, employee, summer, how, .)  "
      ]
     },
     "execution_count": 119,
     "metadata": {},
     "output_type": "execute_result"
    }
   ],
   "source": [
    "df.head()"
   ]
  },
  {
   "cell_type": "code",
   "execution_count": null,
   "id": "54295b08-798c-44d8-a077-f5dadb14cdfe",
   "metadata": {},
   "outputs": [],
   "source": []
  },
  {
   "cell_type": "code",
   "execution_count": null,
   "id": "0c711e64-10cf-4852-82bb-55ac4b4ef1f3",
   "metadata": {},
   "outputs": [],
   "source": [
    "nlp = spacy.load(\"en_core_web_md\")  # or en_core_web_lg\n",
    "\n",
    "# Store Docs\n",
    "df[\"title_doc\"] = list(nlp.pipe(df[\"title\"], batch_size=100, n_process=4))\n",
    "\n",
    "# Clean processing from Doc\n",
    "def clean_doc(doc):\n",
    "    return \" \".join(\n",
    "        token.lemma_.lower()\n",
    "        for token in doc\n",
    "        if not token.is_punct\n",
    "        and not token.is_digit\n",
    "        and not token.is_stop\n",
    "        and token.is_alpha  # keep only pure words\n",
    "    )\n",
    "\n",
    "df[\"title_clean\"] = [clean_doc(doc) for doc in df[\"title_doc\"]]"
   ]
  },
  {
   "cell_type": "code",
   "execution_count": null,
   "id": "0297beb6-4565-4b08-9b7f-86e2ed4424b4",
   "metadata": {},
   "outputs": [],
   "source": []
  },
  {
   "cell_type": "markdown",
   "id": "0ac1720f-00e1-4253-8f7f-cb540933137a",
   "metadata": {},
   "source": [
    "### 1.2.2. Remove punctuation, digits, special characters:"
   ]
  },
  {
   "cell_type": "code",
   "execution_count": null,
   "id": "b76f5c37-b7cf-48bd-b1d1-e49927f773da",
   "metadata": {},
   "outputs": [],
   "source": [
    "# clean_text = re.sub(r'[^a-zA-Z\\s]', '', text)"
   ]
  },
  {
   "cell_type": "code",
   "execution_count": null,
   "id": "0c73b60d-e8b7-4808-a109-75d1a8d4fda4",
   "metadata": {},
   "outputs": [],
   "source": []
  },
  {
   "cell_type": "markdown",
   "id": "93718c63-49d4-47af-ade7-56bcf6289117",
   "metadata": {},
   "source": [
    "### 1.2.3. Stop words:"
   ]
  },
  {
   "cell_type": "code",
   "execution_count": null,
   "id": "d208c79d-17f2-4b0f-bc4a-08942b877772",
   "metadata": {},
   "outputs": [],
   "source": []
  },
  {
   "cell_type": "markdown",
   "id": "22fa6cc4-e698-4d1c-ad9a-f530626b261f",
   "metadata": {},
   "source": [
    "### 1.2.4. Lemmatization & lower case:"
   ]
  },
  {
   "cell_type": "code",
   "execution_count": null,
   "id": "7b68dbab-f25c-4d41-a9a9-fc3b3a4fd1b3",
   "metadata": {},
   "outputs": [],
   "source": [
    "# df[\"title_lemmas\"] = [\" \".join([token.lemma_ for token in doc]) for doc in nlp.pipe(df[\"title\"])]"
   ]
  },
  {
   "cell_type": "markdown",
   "id": "fcb7a82f-ac13-461d-b739-7a0378b06c69",
   "metadata": {},
   "source": [
    "### 1.2.5. Frequency analysis:"
   ]
  },
  {
   "cell_type": "code",
   "execution_count": null,
   "id": "a72629f0-3d24-4d9a-9585-024ff32cce77",
   "metadata": {},
   "outputs": [],
   "source": []
  },
  {
   "cell_type": "markdown",
   "id": "03f5d29c-2659-4486-bf51-1c2f4e4e43f6",
   "metadata": {},
   "source": [
    "# 2. Exploratory data analysis, EDA:"
   ]
  },
  {
   "cell_type": "code",
   "execution_count": null,
   "id": "a1801652-676c-47d7-b366-41ea67a85777",
   "metadata": {},
   "outputs": [],
   "source": []
  },
  {
   "cell_type": "code",
   "execution_count": null,
   "id": "926dd92d-ed65-44ef-9642-4e9655187a69",
   "metadata": {},
   "outputs": [],
   "source": []
  },
  {
   "cell_type": "markdown",
   "id": "0896fc68-5728-4a0a-ba2a-e1a8ecb111b8",
   "metadata": {},
   "source": [
    "# 3. Data save:"
   ]
  },
  {
   "cell_type": "code",
   "execution_count": null,
   "id": "bcce3e48-70c3-4bfd-90e3-260b1e0fa865",
   "metadata": {},
   "outputs": [],
   "source": []
  },
  {
   "cell_type": "code",
   "execution_count": null,
   "id": "1bae258f-2d9f-4ef9-837b-5abcc2b0dc6f",
   "metadata": {},
   "outputs": [],
   "source": []
  }
 ],
 "metadata": {
  "kernelspec": {
   "display_name": "Python 3 (ipykernel)",
   "language": "python",
   "name": "python3"
  },
  "language_info": {
   "codemirror_mode": {
    "name": "ipython",
    "version": 3
   },
   "file_extension": ".py",
   "mimetype": "text/x-python",
   "name": "python",
   "nbconvert_exporter": "python",
   "pygments_lexer": "ipython3",
   "version": "3.11.7"
  }
 },
 "nbformat": 4,
 "nbformat_minor": 5
}
